{
 "cells": [
  {
   "cell_type": "markdown",
   "id": "4bed0e7c",
   "metadata": {},
   "source": [
    "# Hand tracking in Mediapipe"
   ]
  },
  {
   "cell_type": "code",
   "execution_count": 1,
   "id": "f421dfd3",
   "metadata": {},
   "outputs": [],
   "source": [
    "import cv2 as cv\n",
    "import time \n",
    "import mediapipe as mp           "
   ]
  },
  {
   "cell_type": "code",
   "execution_count": null,
   "id": "7d7b355b",
   "metadata": {},
   "outputs": [],
   "source": [
    "cam=cv.VideoCapture(0)                                 # Opening the front webcam\n",
    "\n",
    "mpHands=mp.solutions.hands                             # calling the function from Mediapipe for hand tracking\n",
    "hands=mpHands.Hands()\n",
    "mpDraw=mp.solutions.drawing_utils                      # calling the function from Mediapipe to draw pattern on given image \n",
    "\n",
    "while True:                                            # creating loop for apply process on every frame of given data\n",
    "    success, img=cam.read()                            # Gathering the data from webcam\n",
    "    imgRGB=cv.cvtColor(img,cv.COLOR_BGR2RGB)           # changing the color of image from BGR to RGB, \n",
    "    results=hands.process(imgRGB)                      # as Mediapipe works with RGB image data\n",
    "    \n",
    "    if results.multi_hand_landmarks:                   # applying a condition, if hand is present in the image\n",
    "        for handLms in results.multi_hand_landmarks:   # creating loop for landmarking on hand present in every frame of given data\n",
    "            mpDraw.draw_landmarks(img,handLms,mpHands.HAND_CONNECTIONS)     # create landmarks on the hand & join the dots\n",
    "    \n",
    "    \n",
    "    cv.imshow('Cam',img)\n",
    "    cv.waitKey(1)\n",
    "    "
   ]
  },
  {
   "cell_type": "code",
   "execution_count": 1,
   "id": "8d85e790",
   "metadata": {},
   "outputs": [],
   "source": []
  }
 ],
 "metadata": {
  "kernelspec": {
   "display_name": "Python 3 (ipykernel)",
   "language": "python",
   "name": "python3"
  },
  "language_info": {
   "codemirror_mode": {
    "name": "ipython",
    "version": 3
   },
   "file_extension": ".py",
   "mimetype": "text/x-python",
   "name": "python",
   "nbconvert_exporter": "python",
   "pygments_lexer": "ipython3",
   "version": "3.9.7"
  }
 },
 "nbformat": 4,
 "nbformat_minor": 5
}
